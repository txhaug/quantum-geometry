{
 "cells": [
  {
   "cell_type": "markdown",
   "metadata": {},
   "source": [
    "# Capacity and quantum geometry of parametrized quantum circuits"
   ]
  },
  {
   "cell_type": "markdown",
   "metadata": {},
   "source": [
    "\n",
    "\"Capacity and quantum geometry of parametrized quantum circuits\" by T. Haug, K. Bharti, M.S. Kim\n",
    "arXiv:2102.01659, PRX Quantum 2, 040309 (2021)\n",
    "\n",
    "Example code to calculate quantum Fisher information matrix,effective quantum dimension and quantum natural gradient.\n",
    "\n",
    "Calculates properties of a parametrized quantum circuit \n",
    "U(\\theta)=W_L R_L(\\theta) W_{L-1} R_{L-1}(\\theta) ... W_1 R_1(\\theta) \\sqrt{H}\\ket{0}\n",
    "\n",
    "W_l is entangling layer of two-qubit entangling operations, R_l are single-qubit rotations\n",
    "\n",
    "Prunes redundant parameters from circuit by using zero eigenvalues of quantum fisher information metric. \n",
    "\n",
    "Based on qutip\n",
    "\n",
    "@author: Tobias Haug, github txhaug\n",
    "Imperial College London\n",
    "Contact at tobiasxhaug@gmail.com\n"
   ]
  },
  {
   "cell_type": "code",
   "execution_count": 1,
   "metadata": {},
   "outputs": [],
   "source": [
    "import qutip as qt\n",
    "\n",
    "from functools import partial\n",
    "\n",
    "import operator\n",
    "from functools import reduce\n",
    "import numpy as np\n",
    "\n",
    "import scipy"
   ]
  },
  {
   "cell_type": "code",
   "execution_count": 2,
   "metadata": {},
   "outputs": [],
   "source": [
    "def prod(factors):\n",
    "    return reduce(operator.mul, factors, 1)\n",
    "\n",
    "\n",
    "def flatten(l):\n",
    "    return [item for sublist in l for item in sublist]\n",
    "\n",
    "#tensors operators together \n",
    "def genFockOp(op,position,size,levels=2,opdim=0):\n",
    "    opList=[qt.qeye(levels) for x in range(size-opdim)]\n",
    "    opList[position]=op\n",
    "    return qt.tensor(opList)\n",
    "\n",
    "\n",
    "##convert list of parameters into a 2D array\n",
    "##removes unused parameters where ini_pauli=0\n",
    "def construct_2d_parameters(angles,ini_pauli):\n",
    "    depth,n_qubits=np.shape(ini_pauli)\n",
    "    angles2d=np.zeros([depth,n_qubits])\n",
    "    counter=0\n",
    "    \n",
    "    for i in range(depth):\n",
    "        for j in range(n_qubits):\n",
    "            if(ini_pauli[i,j]==0):\n",
    "                pass\n",
    "            elif(paulis2d[i,j]>0):\n",
    "                ini_pauli[i,j]=angles[counter]\n",
    "                counter+=1\n",
    "\n",
    "    return angles2d\n",
    "\n",
    "##convert 2D array of parameters into 1D list\n",
    "def construct_1d_parameters(angles2d,paulis2d):\n",
    "    depth,n_qubits=np.shape(paulis2d)\n",
    "    angles1d=[]\n",
    "    for i in range(depth):\n",
    "        for j in range(n_qubits):\n",
    "            if(paulis2d[i,j]>0):\n",
    "                angles1d.append(angles2d[i,j])\n",
    "    \n",
    "    return np.array(angles1d)"
   ]
  },
  {
   "cell_type": "code",
   "execution_count": 3,
   "metadata": {},
   "outputs": [],
   "source": [
    "#calculate state and gradients\n",
    "def get_states_gradients(ini_pauli,ini_angles,n_parameters):\n",
    "    #list of values of gradient\n",
    "    gradient_list=np.zeros(n_parameters)\n",
    "\n",
    "    #save here quantum state of gradient\n",
    "    grad_state_list=[]\n",
    "\n",
    "\n",
    "    #p goes from -1 to n_parameters-1. -1 is to calculate quantum state, 0 to n_parameters rest for gradient\n",
    "    #calculates the quantum state U\\ket{0}, as well as \\partial_i U \\ket{0}\n",
    "    #those can be used to calcute energy, gradients and the Quantum Fisher metric \n",
    "    for p in range(-1,n_parameters):\n",
    "        counter=0 #counter to keep track of which parameter is calculated\n",
    "        initial_state=qt.tensor([qt.basis(levels,0) for i in range(n_qubits)])\n",
    "        #initial layer of fixed \\sqrt{H} rotations\n",
    "        initial_state=qt.tensor([qt.qip.operations.ry(np.pi/4) for i in range(n_qubits)])*initial_state\n",
    "\n",
    "        #go through depth layers\n",
    "        for j in range(depth):\n",
    "            rot_op=[]\n",
    "            #define parametrized single-qubit rotations at layer j\n",
    "            for k in range(n_qubits):\n",
    "                if(ini_pauli[j][k]!=0):\n",
    "                    angle=ini_angles[j][k]\n",
    "                    if(ini_pauli[j][k]==1):\n",
    "                        rot_op.append(qt.qip.operations.rx(angle))\n",
    "                    elif(ini_pauli[j][k]==2):\n",
    "                        rot_op.append(qt.qip.operations.ry(angle))\n",
    "                    elif(ini_pauli[j][k]==3):\n",
    "                        rot_op.append(qt.qip.operations.rz(angle))\n",
    "\n",
    "\n",
    "                    #multiply in derivative of parametrized single-qubit rotation gate at layer j for parameter of circuit p\n",
    "                    #this is the exact derivative\n",
    "                    if(counter==p):\n",
    "                        if(ini_pauli[j][k]==1):\n",
    "                            initial_state=(-1j*opX[k]/2)*initial_state\n",
    "                        elif(ini_pauli[j][k]==2):\n",
    "                            initial_state=(-1j*opY[k]/2)*initial_state\n",
    "                        elif(ini_pauli[j][k]==3):\n",
    "                            initial_state=(-1j*opZ[k]/2)*initial_state\n",
    "\n",
    "\n",
    "\n",
    "                    counter+=1\n",
    "                else:\n",
    "                    ##if not used, just add identity\n",
    "                    rot_op.append(qt.qeye(2))\n",
    "\n",
    "            #multiply in single-qbuit rotations \n",
    "            initial_state=qt.tensor(rot_op)*initial_state\n",
    "\n",
    "            #add entangling layer\n",
    "            initial_state=entangling_layer*initial_state\n",
    "\n",
    "        if(p==-1):#get quantum state for cost function\n",
    "            #cost function given by <\\psi|H|\\psi>\n",
    "            circuit_state=qt.Qobj(initial_state)#state generated by circuit\n",
    "            energy=qt.expect(H,circuit_state)\n",
    "\n",
    "\n",
    "        else:#get quantum state needed for gradient\n",
    "            grad_state_list.append(qt.Qobj(initial_state))#state with gradient applied for p-th parameter\n",
    "\n",
    "            #gradient of circuit is given by 2*real(<\\psi|H|\\partial_p\\psi>)\n",
    "            gradient_list[p]=2*np.real(circuit_state.overlap(H*initial_state))\n",
    "            \n",
    "    return circuit_state,energy,grad_state_list,gradient_list\n",
    "\n",
    "def calc_qfi(circuit_state,grad_state_list):\n",
    "    #quantum fisher information metric\n",
    "    #calculated as \\text{Re}(\\braket{\\partial_i \\psi}{\\partial_j \\psi}-\\braket{\\partial_i \\psi}{\\psi}\\braket{\\psi}{\\partial_j \\psi})\n",
    "\n",
    "\n",
    "    #first, calculate elements \\braket{\\psi}{\\partial_j \\psi})\n",
    "    single_qfi_elements=np.zeros(n_parameters,dtype=np.complex128)\n",
    "    for p in range(n_parameters):\n",
    "        #print(circuit_state.overlap(grad_state_list[p]))\n",
    "        single_qfi_elements[p]=circuit_state.overlap(grad_state_list[p])\n",
    "\n",
    "\n",
    "    #calculcate the qfi matrix\n",
    "    qfi_matrix=np.zeros([n_parameters,n_parameters])\n",
    "    for p in range(n_parameters):\n",
    "        for q in range(p,n_parameters):\n",
    "            qfi_matrix[p,q]=np.real(grad_state_list[p].overlap(grad_state_list[q])-np.conjugate(single_qfi_elements[p])*single_qfi_elements[q])\n",
    "\n",
    "\n",
    "    #use fact that qfi matrix is real and hermitian\n",
    "    for p in range(n_parameters):\n",
    "        for q in range(p+1,n_parameters):  \n",
    "            qfi_matrix[q,p]=qfi_matrix[p,q]\n",
    "    return qfi_matrix"
   ]
  },
  {
   "cell_type": "markdown",
   "metadata": {},
   "source": [
    "Set parameters here for circuit"
   ]
  },
  {
   "cell_type": "code",
   "execution_count": 4,
   "metadata": {},
   "outputs": [],
   "source": [
    "\n",
    "n_qubits=4 #number qubits\n",
    "depth=16 #number of layers\n",
    "\n",
    "#type of entangling gate used\n",
    "type_entanglers=1 #0: CNOT, 1:CPHASE, 2: \\sqrt{iSWAP}\n",
    "\n",
    "#how to arrange the entangling layer\n",
    "entangling_arrangement=0 #0: one-dimensional nearest-neighbor CHAIN, 1: ALl-to-ALL connections\n"
   ]
  },
  {
   "cell_type": "code",
   "execution_count": 5,
   "metadata": {},
   "outputs": [],
   "source": [
    "\n",
    "#random generator used\n",
    "rng = np.random.default_rng(1)\n",
    "\n",
    "\n",
    "#define angles for circuit\n",
    "ini_angles=rng.random([depth,n_qubits])*2*np.pi\n",
    "\n",
    "#define rotations for circuit in each layer, 1: X, 2:Y 3:Z\n",
    "ini_pauli=rng.integers(1,4,[depth,n_qubits])\n",
    "\n",
    "\n",
    "##test case for n_qubits=4, depth=3, type_entanglers=0,entangling_arrangement=0\n",
    "#ini_angles=np.reshape([1.48304, 2.17723, 1.9648, 0.0496955, 3.07004, 1.32555, 5.98107, 6.28259, 1.58124, 6.19941, 3.49189, 2.74643],[depth,n_qubits])\n",
    "#ini_pauli=np.reshape([3, 2, 2, 2, 3, 2, 3, 1, 3, 2, 2, 1],[depth,n_qubits])\n",
    "##should give energy=-0.290501, gradient_mean= 0.112244, qng_mean=0.3352\n",
    "\n",
    "\n",
    "n_parameters=len(construct_1d_parameters(ini_angles,ini_pauli)) #number of parameters of circuit\n",
    "\n",
    "\n",
    "cutoff_eigvals=10**-12 #define all eigenvalues of quantum fisher information metric as 0\n",
    "\n",
    "#operators for circuit\n",
    "levels=2#\n",
    "opZ=[genFockOp(qt.sigmaz(),i,n_qubits,levels) for i in range(n_qubits)]\n",
    "opX=[genFockOp(qt.sigmax(),i,n_qubits,levels) for i in range(n_qubits)]\n",
    "opY=[genFockOp(qt.sigmay(),i,n_qubits,levels) for i in range(n_qubits)]\n",
    "opId=genFockOp(qt.qeye(levels),0,n_qubits)\n",
    "    \n",
    "\n",
    "H=opZ[0]*opZ[1] #local Hamiltonian to calculate energy and gradient from\n",
    "    \n",
    "\n",
    "#define entangling gate arrangement, \n",
    "if(entangling_arrangement==0):    #here is for chain topology\n",
    "    entangling_gate_index=[[2*j,2*j+1] for j in range(n_qubits//2)]+[[2*j+1,2*j+2] for j in range((n_qubits-1)//2)]\n",
    "elif(entangling_arrangement==1):##all-to-all\n",
    "    #randomize control and target for more entangling power for CNOT\n",
    "    entangling_gate_index=flatten([[rng.permutation([i,j]) for j in range(i+1,n_qubits)] for i in range(n_qubits-1)])\n",
    "\n",
    "\n",
    "#type of entangliers used\n",
    "if(type_entanglers==0):#CNOT\n",
    "    entangling_layer=prod([qt.qip.operations.cnot(n_qubits,j,k) for j,k in entangling_gate_index][::-1])#need [::-1] to invert order so that unitaries are multiplied in correct order\n",
    "elif(type_entanglers==1):#CPHASE\n",
    "    entangling_layer=prod([qt.qip.operations.csign(n_qubits,j,k) for j,k in entangling_gate_index][::-1])\n",
    "elif(type_entanglers==2):#\\sqrt{iSWAP}\n",
    "    entangling_layer=prod([qt.qip.operations.sqrtiswap(n_qubits,[j,k]) for j,k in entangling_gate_index][::-1])\n",
    "\n"
   ]
  },
  {
   "cell_type": "code",
   "execution_count": 6,
   "metadata": {},
   "outputs": [
    {
     "name": "stdout",
     "output_type": "stream",
     "text": [
      "Energy of state -0.016312378471624672\n"
     ]
    }
   ],
   "source": [
    "circuit_state,energy,grad_state_list,gradient_list=get_states_gradients(ini_pauli,ini_angles,n_parameters)\n",
    "print(\"Energy of state\",energy)"
   ]
  },
  {
   "cell_type": "code",
   "execution_count": 7,
   "metadata": {},
   "outputs": [],
   "source": [
    "qfi_matrix=calc_qfi(circuit_state,grad_state_list)"
   ]
  },
  {
   "cell_type": "markdown",
   "metadata": {},
   "source": [
    "Get eigenvalues and eigenvectors of quantum fisher information metric. Gives information about the parameter space of the circuit. Zero eigenvalues indicate redundant parameters, i.e. which do not contribute The larger the eigenvalue, the more the quantum state changes when changing the parameters in the direction of the eigenvector-\n",
    "For random initial parameters, the effective quantum dimension is equivalent to the parameter dimension, which is the total number of independent parameters that the quantum state generated by the quantum circuit can represent."
   ]
  },
  {
   "cell_type": "code",
   "execution_count": 8,
   "metadata": {},
   "outputs": [],
   "source": [
    "#get eigenvalues and eigenvectors of QFI\n",
    "eigvals,eigvecs=scipy.linalg.eigh(qfi_matrix)"
   ]
  },
  {
   "cell_type": "code",
   "execution_count": 9,
   "metadata": {},
   "outputs": [
    {
     "name": "stdout",
     "output_type": "stream",
     "text": [
      "Hilbert space 16\n",
      "Number parameters of circuit 64\n",
      "Effective quantum dimension G_C 30\n",
      "Number of zero eigenvalues of QFI 34\n"
     ]
    }
   ],
   "source": [
    "#non-zero eigenvalues of qfi\n",
    "nonzero_eigvals=eigvals[eigvals>cutoff_eigvals]\n",
    "\n",
    "#effective quantum dimension, i.e. number of independent directions when perturbing system\n",
    "#is equivalent to parameter dimension (number of independent parameters of quantum state that can be represented by circuit) for random initial values of circuit\n",
    "eff_quant_dim=len(nonzero_eigvals)\n",
    "\n",
    "n_zero_eigval=n_parameters-eff_quant_dim\n",
    "\n",
    "print(\"Hilbert space\", 2**n_qubits)\n",
    "print(\"Number parameters of circuit\",n_parameters)\n",
    "print(\"Effective quantum dimension G_C\",eff_quant_dim)\n",
    "print(\"Number of zero eigenvalues of QFI\",n_zero_eigval)"
   ]
  },
  {
   "cell_type": "markdown",
   "metadata": {},
   "source": [
    "Number of parameters of circuit that are redundant"
   ]
  },
  {
   "cell_type": "code",
   "execution_count": 10,
   "metadata": {
    "scrolled": true
   },
   "outputs": [
    {
     "name": "stdout",
     "output_type": "stream",
     "text": [
      "redundancy 0.53125\n"
     ]
    }
   ],
   "source": [
    "#fraction of zero eigenvalues\n",
    "redundancy=n_zero_eigval/n_parameters\n",
    "print(\"redundancy\",redundancy)"
   ]
  },
  {
   "cell_type": "code",
   "execution_count": 11,
   "metadata": {},
   "outputs": [],
   "source": [
    "##get sum of amplitudes of eigenvectors with zero eigenvalue\n",
    "##tells us how redundant a parameter is\n",
    "weights_zeros=np.zeros(n_parameters)\n",
    "for i in range(n_parameters):\n",
    "    #only get weights for zero eigvals\n",
    "    if(eigvals[i]<cutoff_eigvals):\n",
    "        weights_zeros[:]+=np.abs(eigvecs[:,i])**2"
   ]
  },
  {
   "cell_type": "markdown",
   "metadata": {},
   "source": [
    "The quantum Fisher information metric (QFI) is a matrix telling us how a change in parameter of the quantum circuit affects the fidelity of the quantum state. \n",
    "The eigenvectors of the QFI tell us the directions in parameter space that lead to a change in fidelity given by the corresponding eigenvalues. If the eigenvalue is zero, the corresponding eigenvector is a direction in parameter space that does not change the quantum state. \n",
    "The algorithm calculates the eigenvectors with eigenvalue zero, and iteratively removes the parameters that have no effect on the quantum state. This is done by checking which parameters of the eigenvector have non-zero amplitude, and removing them from the circuit."
   ]
  },
  {
   "cell_type": "code",
   "execution_count": 18,
   "metadata": {},
   "outputs": [],
   "source": [
    "##find which parameters can be pruned\n",
    "reduced_parameters=n_parameters\n",
    "reduced_eigvecs=np.array(eigvecs)\n",
    "reduced_eigvals=np.array(eigvals)\n",
    "reduced_weights_zeros=np.array(weights_zeros)\n",
    "reduced_qfi_matrix=np.array(qfi_matrix)\n",
    "removed_index=[]\n",
    "epsilon=10**-14\n",
    "reduced_n_zero_eigval=n_parameters-eff_quant_dim\n",
    "while(reduced_n_zero_eigval>0):\n",
    "\n",
    "    reduced_zero_eigvals_index=np.arange(reduced_parameters)[reduced_weights_zeros>epsilon]\n",
    "    delete_index=reduced_zero_eigvals_index[-1]\n",
    "\n",
    "    removed_index.append(delete_index)#always delete last index, so counting is fine\n",
    "    reduced_qfi_matrix=np.delete(reduced_qfi_matrix,delete_index,axis=0)\n",
    "    reduced_qfi_matrix=np.delete(reduced_qfi_matrix,delete_index,axis=1)\n",
    "    reduced_parameters-=1\n",
    "    reduced_eigvals,reduced_eigvecs=scipy.linalg.eigh(reduced_qfi_matrix)\n",
    "\n",
    "    reduced_weights_zeros=np.zeros(reduced_parameters)\n",
    "    for i in range(reduced_parameters):\n",
    "        #only get weights for zero eigvals\n",
    "        if(reduced_eigvals[i]<cutoff_eigvals):\n",
    "            reduced_weights_zeros[:]+=np.abs(reduced_eigvecs[:,i])**2\n",
    "\n",
    "    reduced_n_zero_eigval=0\n",
    "    for i in range(reduced_parameters):\n",
    "        if(reduced_eigvals[i]<cutoff_eigvals):\n",
    "            reduced_n_zero_eigval+=1\n",
    "\n",
    "    #reconstruct weight plot with deleted indices\n",
    "    reduced_weights_zeros_plot=np.array(reduced_weights_zeros)\n",
    "    for i in range(len(removed_index)): \n",
    "        reduced_weights_zeros_plot=np.insert(reduced_weights_zeros_plot,removed_index[len(removed_index)-1-i],-1)\n",
    "    reduced_weights_zeros_plot=np.reshape(reduced_weights_zeros_plot,[depth,n_qubits])\n",
    "    #plot2D(reduced_weights_zeros_plot,qubit_range,depth_range,dataset+\"weightszerosCut\",saveto,\"qubits\",\"depth\")\n"
   ]
  },
  {
   "cell_type": "code",
   "execution_count": 13,
   "metadata": {},
   "outputs": [],
   "source": [
    "##remove removed parameters from circuit by setting corresponding pruned_ini_pauli=0\n",
    "counter=0\n",
    "pruned_ini_pauli=np.array(ini_pauli)\n",
    "for i in range(depth):\n",
    "    for j in range(n_qubits):\n",
    "        if(ini_pauli[i,j]!=0):\n",
    "            if(counter in removed_index): #if has been removed by pruning, set pauli rotation to zero\n",
    "                pruned_ini_pauli[i,j]=0\n",
    "            counter+=1\n",
    "            \n"
   ]
  },
  {
   "cell_type": "code",
   "execution_count": 14,
   "metadata": {},
   "outputs": [
    {
     "data": {
      "text/plain": [
       "array([[2, 3, 3, 1],\n",
       "       [2, 1, 0, 2],\n",
       "       [3, 3, 0, 3],\n",
       "       [0, 0, 1, 2],\n",
       "       [2, 0, 3, 2],\n",
       "       [2, 2, 0, 1],\n",
       "       [0, 0, 2, 3],\n",
       "       [3, 0, 2, 0],\n",
       "       [0, 2, 1, 0],\n",
       "       [0, 3, 0, 1],\n",
       "       [0, 0, 1, 0],\n",
       "       [0, 0, 2, 0],\n",
       "       [0, 2, 3, 0],\n",
       "       [0, 0, 0, 0],\n",
       "       [0, 0, 0, 0],\n",
       "       [0, 0, 0, 0]], dtype=int64)"
      ]
     },
     "execution_count": 14,
     "metadata": {},
     "output_type": "execute_result"
    }
   ],
   "source": [
    "##pruned pauli rotations of circuit\n",
    "pruned_ini_pauli"
   ]
  },
  {
   "cell_type": "code",
   "execution_count": 19,
   "metadata": {},
   "outputs": [],
   "source": [
    "##calculate pruned circuit\n",
    "pruned_circuit_state,_,pruned_grad_state_list,_=get_states_gradients(ini_pauli,ini_angles,n_parameters)\n",
    "pruned_qfi_matrix=calc_qfi(pruned_circuit_state,pruned_grad_state_list)\n",
    "#get eigenvalues and eigenvectors of QFI\n",
    "pruned_eigvals,pruned_eigvecs=scipy.linalg.eigh(pruned_qfi_matrix)"
   ]
  },
  {
   "cell_type": "code",
   "execution_count": 16,
   "metadata": {},
   "outputs": [],
   "source": [
    "pruned_n_parameters=len(construct_1d_parameters(ini_angles,pruned_ini_pauli)) #number of parameters of circuit\n",
    "\n",
    "\n",
    "#non-zero eigenvalues of qfi\n",
    "pruned_nonzero_eigvals=pruned_eigvals[pruned_eigvals>cutoff_eigvals]\n",
    "\n",
    "#effective quantum dimension, i.e. number of independent directions when perturbing system\n",
    "#is equivalent to parameter dimension (number of independent parameters of quantum state that can be represented by circuit) for random initial values of circuit\n",
    "pruned_eff_quant_dim=len(pruned_nonzero_eigvals)\n",
    "\n",
    "#zero eigenvalues of pruned circuit\n",
    "pruned_n_zero_eigval=pruned_n_parameters-pruned_eff_quant_dim"
   ]
  },
  {
   "cell_type": "code",
   "execution_count": 17,
   "metadata": {},
   "outputs": [
    {
     "name": "stdout",
     "output_type": "stream",
     "text": [
      "Maximal effective dimension possible 30\n",
      "Number parameters of circuit 30\n",
      "Effective quantum dimension G_C 30\n",
      "Number of zero eigenvalues of QFI 0\n",
      "redundancy 0.0\n"
     ]
    }
   ],
   "source": [
    "print(\"Maximal effective dimension possible\", 2**(n_qubits+1)-2)\n",
    "print(\"Number parameters of circuit\",pruned_n_parameters)\n",
    "print(\"Effective quantum dimension G_C\",pruned_eff_quant_dim)\n",
    "print(\"Number of zero eigenvalues of QFI\",pruned_n_zero_eigval)\n",
    "#fraction of zero eigenvalues\n",
    "pruned_redundancy=pruned_n_zero_eigval/pruned_n_parameters\n",
    "print(\"redundancy\",pruned_redundancy)"
   ]
  },
  {
   "cell_type": "code",
   "execution_count": null,
   "metadata": {},
   "outputs": [],
   "source": []
  }
 ],
 "metadata": {
  "kernelspec": {
   "display_name": "Python 3 (ipykernel)",
   "language": "python",
   "name": "python3"
  },
  "language_info": {
   "codemirror_mode": {
    "name": "ipython",
    "version": 3
   },
   "file_extension": ".py",
   "mimetype": "text/x-python",
   "name": "python",
   "nbconvert_exporter": "python",
   "pygments_lexer": "ipython3",
   "version": "3.9.7"
  }
 },
 "nbformat": 4,
 "nbformat_minor": 2
}
